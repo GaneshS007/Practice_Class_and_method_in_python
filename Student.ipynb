{
 "cells": [
  {
   "cell_type": "code",
   "execution_count": 5,
   "metadata": {},
   "outputs": [],
   "source": [
    "class Student:\n",
    "    def __init__(self, name, usn, m1, m2, m3):\n",
    "        self.name = name\n",
    "        self.usn = usn\n",
    "        self.m1 = m1\n",
    "        self.m2 = m2\n",
    "        self.m3 = m3\n",
    "    def __str__(self):\n",
    "        return f'Name: {self.name}\\nUSN: {self.usn}\\nMarks 1: {self.m1}\\nMarks 2: {self.m2}\\nMarks 3: {self.m3}'\n",
    "    def p_student(self):\n",
    "        print(f'Name: {self.name}\\nUSN: {self.usn}\\nMarks 1: {self.m1}\\nMarks 2: {self.m2}\\nMarks 3: {self.m3}')\n",
    "    def inc_student_marks(self, increamentBy, marks):\n",
    "        if marks == self.m1:\n",
    "            if (self.m1 + increamentBy) > 100:\n",
    "                self.m1 = 100\n",
    "            else:\n",
    "                self.m1 += increamentBy\n",
    "            \n",
    "        elif marks == self.m2:\n",
    "            if (self.m2 + increamentBy) > 100:\n",
    "                self.m2 = 100\n",
    "            else:\n",
    "                self.m2 += increamentBy\n",
    "\n",
    "        elif marks == self.m3:\n",
    "            if (self.m3 + increamentBy) > 100:\n",
    "                self.m3 = 100\n",
    "            else:\n",
    "                self.m3 += increamentBy\n",
    "        else:\n",
    "            print('Enter matching marks')\n",
    "\n",
    "    def cal_per(self):\n",
    "        sum = self.m1 + self.m2 + self.m3\n",
    "        total_marks = 300\n",
    "        percentage = (sum / total_marks)*100\n",
    "        print(f'The percentage is {percentage}')"
   ]
  },
  {
   "cell_type": "code",
   "execution_count": 6,
   "metadata": {},
   "outputs": [
    {
     "name": "stdout",
     "output_type": "stream",
     "text": [
      "Enter the Student name: Ganesh S\n",
      "Enter the USN: 4VV18CS042\n",
      "Enter the marks 1: 95\n",
      "Enter the marks 2: 90\n",
      "Enter the marks 3: 100\n"
     ]
    }
   ],
   "source": [
    "name = input('Enter the Student name: ')\n",
    "usn = input('Enter the USN: ')\n",
    "while True:\n",
    "    try:\n",
    "        marks1 = int(input('Enter the marks 1: '))\n",
    "        marks2 = int(input('Enter the marks 2: '))\n",
    "        marks3 = int(input('Enter the marks 3: '))\n",
    "        break\n",
    "    except:\n",
    "        print('Enter the correct marks')"
   ]
  },
  {
   "cell_type": "code",
   "execution_count": 7,
   "metadata": {
    "scrolled": true
   },
   "outputs": [],
   "source": [
    "s1 = Student(name , usn, marks1, marks2, marks3)"
   ]
  },
  {
   "cell_type": "code",
   "execution_count": 8,
   "metadata": {},
   "outputs": [
    {
     "name": "stdout",
     "output_type": "stream",
     "text": [
      "Name: Ganesh S\n",
      "USN: 4VV18CS042\n",
      "Marks 1: 95\n",
      "Marks 2: 90\n",
      "Marks 3: 100\n"
     ]
    }
   ],
   "source": [
    "print(s1)"
   ]
  },
  {
   "cell_type": "code",
   "execution_count": 9,
   "metadata": {},
   "outputs": [
    {
     "name": "stdout",
     "output_type": "stream",
     "text": [
      "Name: Ganesh S\n",
      "USN: 4VV18CS042\n",
      "Marks 1: 95\n",
      "Marks 2: 90\n",
      "Marks 3: 100\n"
     ]
    }
   ],
   "source": [
    "s1.p_student()"
   ]
  },
  {
   "cell_type": "code",
   "execution_count": 10,
   "metadata": {},
   "outputs": [
    {
     "name": "stdout",
     "output_type": "stream",
     "text": [
      "The percentage is 95.0\n"
     ]
    }
   ],
   "source": [
    "s1.cal_per()"
   ]
  },
  {
   "cell_type": "code",
   "execution_count": 11,
   "metadata": {},
   "outputs": [
    {
     "name": "stdout",
     "output_type": "stream",
     "text": [
      "Enter how much to increment: 5\n",
      "Enter the marks to be incremented: 95\n"
     ]
    }
   ],
   "source": [
    "while True:\n",
    "    try:\n",
    "        increamentBy = int(input('Enter how much to increment: '))\n",
    "        marks = int(input('Enter the marks to be incremented: '))\n",
    "        break\n",
    "    except:\n",
    "        print('Enter valide input')"
   ]
  },
  {
   "cell_type": "code",
   "execution_count": 12,
   "metadata": {},
   "outputs": [],
   "source": [
    "s1.inc_student_marks(increamentBy, marks)"
   ]
  },
  {
   "cell_type": "code",
   "execution_count": 13,
   "metadata": {},
   "outputs": [
    {
     "name": "stdout",
     "output_type": "stream",
     "text": [
      "Name: Ganesh S\n",
      "USN: 4VV18CS042\n",
      "Marks 1: 100\n",
      "Marks 2: 90\n",
      "Marks 3: 100\n"
     ]
    }
   ],
   "source": [
    "s1.p_student()"
   ]
  },
  {
   "cell_type": "code",
   "execution_count": 14,
   "metadata": {},
   "outputs": [
    {
     "name": "stdout",
     "output_type": "stream",
     "text": [
      "The percentage is 96.66666666666667\n"
     ]
    }
   ],
   "source": [
    "s1.cal_per()"
   ]
  }
 ],
 "metadata": {
  "kernelspec": {
   "display_name": "Python 3",
   "language": "python",
   "name": "python3"
  },
  "language_info": {
   "codemirror_mode": {
    "name": "ipython",
    "version": 3
   },
   "file_extension": ".py",
   "mimetype": "text/x-python",
   "name": "python",
   "nbconvert_exporter": "python",
   "pygments_lexer": "ipython3",
   "version": "3.8.3"
  }
 },
 "nbformat": 4,
 "nbformat_minor": 4
}
